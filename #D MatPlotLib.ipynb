{
 "cells": [
  {
   "cell_type": "markdown",
   "id": "0733fb4c",
   "metadata": {},
   "source": [
    "## MatPlotLib"
   ]
  },
  {
   "cell_type": "markdown",
   "id": "e2bf9740",
   "metadata": {},
   "source": [
    "### Visualization"
   ]
  },
  {
   "cell_type": "code",
   "execution_count": null,
   "id": "72bc7b17",
   "metadata": {},
   "outputs": [],
   "source": [
    "import matplotlib.pyplot as plt"
   ]
  },
  {
   "cell_type": "code",
   "execution_count": null,
   "id": "f0d0cfe4",
   "metadata": {},
   "outputs": [],
   "source": [
    "xpoints = np.array([1, 2])\n",
    "ypoints = np.array([2, 20])"
   ]
  },
  {
   "cell_type": "code",
   "execution_count": null,
   "id": "0d5a7700",
   "metadata": {
    "scrolled": true
   },
   "outputs": [],
   "source": [
    "plt.plot(xpoints, ypoints)\n",
    "plt.show()"
   ]
  },
  {
   "cell_type": "code",
   "execution_count": null,
   "id": "e08b363d",
   "metadata": {},
   "outputs": [],
   "source": [
    "# Different variations of plotting\n",
    "plt.plot(xpoints, ypoints, marker = 'o')\n",
    "plt.plot(xpoints, ypoints, 'x')\n",
    "plt.plot(ypoints, 'o:g') # This will show 0 1 2 3 4... as xpoints since we haven't specified any ourself\n",
    "plt.plot(xpoints, ypoints, marker = 'o', ms = 30, mec = 'r', mfc = 'k') # mfc = '#4123fd' (hexadecimal colors will also work)\n",
    "plt.plot(xpoints, ypoints, linestyle = 'dotted', ms = 30, mec = 'hotpink', mfc = 'k', linewidth = '10') # or instead of linestyle write ls = ':'"
   ]
  },
  {
   "cell_type": "code",
   "execution_count": null,
   "id": "9605d701",
   "metadata": {},
   "outputs": [],
   "source": [
    "y1 = np.array([1, 2, 3, 4])\n",
    "y2 = np.array([5, 6, 7, 8])\n",
    "y3 = np.array([9, 10, 11, 12])\n",
    "y4 = np.array([13, 14, 15, 16])\n",
    "\n",
    "plt.plot(y1, y2, y3, y4)\n",
    "\n",
    "# Extras for plot\n",
    "plt.xlabel('Average Pulse')\n",
    "plt.ylabel('Calorie Burnage')\n",
    "plt.title('Jai jawan jai kisan')\n",
    "\n",
    "plt.show()"
   ]
  },
  {
   "cell_type": "code",
   "execution_count": null,
   "id": "10b1a653",
   "metadata": {},
   "outputs": [],
   "source": [
    "font1 = {'family': 'serif', 'color': 'pink', 'size': 50}\n",
    "font2 = {'family': 'serif', 'color': 'darkblue', 'size': 10}\n",
    "\n",
    "plt.title('Money heist', fontdict = font1)\n",
    "plt.xlabel('Bella ciao', fontdict = font2)\n",
    "plt.ylabel('El Profesor', fontdict = font2)\n",
    "\n",
    "plt.plot(y1, y2)"
   ]
  },
  {
   "cell_type": "code",
   "execution_count": null,
   "id": "8061d6f9",
   "metadata": {},
   "outputs": [],
   "source": [
    "plt.title('Money heist', loc = 'left')"
   ]
  },
  {
   "cell_type": "code",
   "execution_count": null,
   "id": "740e93dd",
   "metadata": {},
   "outputs": [],
   "source": [
    "# Plot 1\n",
    "x = np.array([1, 1, 2, 3])\n",
    "y = np.array([4, 5, 6, 7])\n",
    "\n",
    "plt.subplot(2, 3, 1)\n",
    "plt.plot(x, y)\n",
    "\n",
    "#plot 2\n",
    "x = np.array([0, 1, 2, 3])\n",
    "y = np.array([4, 5, 6, 7])\n",
    "\n",
    "plt.subplot(2, 3, 2)\n",
    "plt.plot(x, y)\n",
    "plt.title('tp')"
   ]
  },
  {
   "cell_type": "code",
   "execution_count": null,
   "id": "72902306",
   "metadata": {},
   "outputs": [],
   "source": [
    "import numpy as np\n",
    "import matplotlib.pyplot as plt"
   ]
  },
  {
   "cell_type": "code",
   "execution_count": null,
   "id": "b41b2a1e",
   "metadata": {},
   "outputs": [],
   "source": [
    "x = np.arange(1, 10)\n",
    "y = np.arange(10, 19)\n",
    "plt.scatter(x, y, color = 'hotpink', cmap = 'virdis')\n",
    "plt.colorbar()\n",
    "plt.show()"
   ]
  },
  {
   "cell_type": "code",
   "execution_count": null,
   "id": "a4035bf3",
   "metadata": {},
   "outputs": [],
   "source": [
    "x = np.array([\"Girls\", \"Boys\"])\n",
    "y = np.array([10, 20])\n",
    "plt.bar(x, y, width = 0.1)"
   ]
  },
  {
   "cell_type": "code",
   "execution_count": null,
   "id": "d9db5eca",
   "metadata": {},
   "outputs": [],
   "source": [
    "plt.barh(x, y, color = \"red\")"
   ]
  },
  {
   "cell_type": "code",
   "execution_count": null,
   "id": "5f7e0788",
   "metadata": {},
   "outputs": [],
   "source": [
    "#### Other Plots:\n",
    "y = np.arange(1, 4)\n",
    "mylabels = np.array([\"Red\", \"Blue\", \"Green\"])\n",
    "mycolors = np.array([\"#fda321\", \"Blue\", \"g\"])\n",
    "myexplode = [0.1, 0.3, 0.5]\n",
    "plt.pie(y, labels = mylabels, startangle = 90, explode = myexplode, colors = mycolors)"
   ]
  },
  {
   "cell_type": "code",
   "execution_count": null,
   "id": "2f1f4eeb",
   "metadata": {},
   "outputs": [],
   "source": []
  }
 ],
 "metadata": {
  "kernelspec": {
   "display_name": "Python 3 (ipykernel)",
   "language": "python",
   "name": "python3"
  },
  "language_info": {
   "codemirror_mode": {
    "name": "ipython",
    "version": 3
   },
   "file_extension": ".py",
   "mimetype": "text/x-python",
   "name": "python",
   "nbconvert_exporter": "python",
   "pygments_lexer": "ipython3",
   "version": "3.9.7"
  }
 },
 "nbformat": 4,
 "nbformat_minor": 5
}
